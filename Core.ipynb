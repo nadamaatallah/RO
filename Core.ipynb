{
 "cells": [
  {
   "cell_type": "code",
   "execution_count": 1,
   "id": "521c071c",
   "metadata": {},
   "outputs": [],
   "source": [
    "import osmnx as ox\n",
    "import networkx as nx"
   ]
  },
  {
   "cell_type": "code",
   "execution_count": 2,
   "id": "d2bc3478",
   "metadata": {},
   "outputs": [],
   "source": [
    "def extract_graph(place_name):\n",
    "    # Extract the OSM data for the specified area\n",
    "    graph = ox.graph_from_place(place_name, network_type=\"all\")\n",
    "    return graph"
   ]
  },
  {
   "cell_type": "code",
   "execution_count": 3,
   "id": "6912f12a",
   "metadata": {},
   "outputs": [],
   "source": [
    "def calculate_edge_speeds(graph):\n",
    "    # Calculate average speeds of the roads in km/h\n",
    "    ox.speed.add_edge_speeds(graph)\n",
    "    return graph"
   ]
  },
  {
   "cell_type": "code",
   "execution_count": 4,
   "id": "9b327581",
   "metadata": {},
   "outputs": [],
   "source": [
    "def create_directed_graph(graph):\n",
    "    # Create a directed graph considering the direction of roads\n",
    "    G = nx.DiGraph()\n",
    "\n",
    "    # Add edges to the graph considering 'oneway' and 'highway' attributes\n",
    "    for u, v, data in graph.edges(data=True):\n",
    "        attrs = data.copy()\n",
    "        if attrs['oneway'] == 'True':\n",
    "            G.add_edge(u, v, **attrs)\n",
    "        else:\n",
    "            G.add_edge(u, v, **attrs)\n",
    "            G.add_edge(v, u, **attrs)\n",
    "\n",
    "    return G"
   ]
  },
  {
   "cell_type": "code",
   "execution_count": 5,
   "id": "5b5a1367",
   "metadata": {},
   "outputs": [],
   "source": [
    "def calculate_edge_travel_times(graph):\n",
    "    # Calculate travel time for each edge and add them to the graph\n",
    "    for u, v, data in graph.edges(data=True):\n",
    "        length_km = data['length']\n",
    "        speed_kph = data['speed_kph']\n",
    "        travel_time = length_km / speed_kph if speed_kph != 0 else float('inf')\n",
    "        graph[u][v]['weight'] = travel_time\n",
    "\n",
    "    return graph"
   ]
  },
  {
   "cell_type": "code",
   "execution_count": 6,
   "id": "b9c30016",
   "metadata": {},
   "outputs": [],
   "source": [
    "#algorithms"
   ]
  },
  {
   "cell_type": "code",
   "execution_count": 7,
   "id": "fbca5a7e",
   "metadata": {},
   "outputs": [],
   "source": [
    "def dijkstra_shortest_path(graph, source, target):\n",
    "    shortest_path, shortest_path_length = nx.single_source_dijkstra(graph, source, target=target, weight='weight')\n",
    "    return shortest_path, shortest_path_length"
   ]
  },
  {
   "cell_type": "code",
   "execution_count": 8,
   "id": "9f85a4df",
   "metadata": {},
   "outputs": [],
   "source": [
    "def bellman_ford_shortest_path(graph, source, target):\n",
    "    shortest_path = nx.bellman_ford_path(graph, source, target=target, weight='weight')\n",
    "    shortest_path_length = nx.bellman_ford_path_length(graph, source, target=target, weight='weight')\n",
    "    return shortest_path, shortest_path_length"
   ]
  },
  {
   "cell_type": "code",
   "execution_count": 9,
   "id": "1373661b",
   "metadata": {},
   "outputs": [],
   "source": [
    "def depth_first_search(graph, source, target):\n",
    "    shortest_path = nx.dfs_path(graph, source, target=target)\n",
    "    shortest_path_length = nx.dfs_tree(graph, source).size()\n",
    "    return shortest_path, shortest_path_length"
   ]
  },
  {
   "cell_type": "code",
   "execution_count": 10,
   "id": "87777752",
   "metadata": {},
   "outputs": [],
   "source": [
    "def breadth_first_search(graph, source, target):\n",
    "    shortest_path = nx.bfs_tree(graph, source).shortest_path(target)\n",
    "    shortest_path_length = nx.bfs_tree(graph, source).shortest_path_length(target)"
   ]
  },
  {
   "cell_type": "code",
   "execution_count": 11,
   "id": "bfd674f7",
   "metadata": {},
   "outputs": [
    {
     "name": "stderr",
     "output_type": "stream",
     "text": [
      "C:\\Users\\nadam\\AppData\\Local\\Temp\\ipykernel_7908\\1041658340.py:3: FutureWarning: The `add_edge_speeds` function has moved to the `routing` module. Calling `speed.add_edge_speeds` is deprecated and will be removed in the v2.0.0 release. Call it via `routing.add_edge_speeds` instead. See the OSMnx v2 migration guide: https://github.com/gboeing/osmnx/issues/1123\n",
      "  ox.speed.add_edge_speeds(graph)\n"
     ]
    },
    {
     "name": "stdout",
     "output_type": "stream",
     "text": [
      "Shortest path from 205318787 to 6629398148 : 14.517625950247833\n",
      "Length of the shortest path: [205318787, 1162555727, 6620926650, 1162550604, 6620762870, 1162547741, 1162555325, 205318859, 6629398148]\n"
     ]
    }
   ],
   "source": [
    "if __name__ == \"__main__\":\n",
    "    # You can test your functions here if needed\n",
    "    place_name = \"Ariana, Tunis\"\n",
    "    graph = extract_graph(place_name)\n",
    "    graph = calculate_edge_speeds(graph)\n",
    "    graph = create_directed_graph(graph)\n",
    "    graph = calculate_edge_travel_times(graph)\n",
    "\n",
    "    source_node = 205318787\n",
    "    target_node = 6629398148\n",
    "    shortest_path, shortest_path_length = dijkstra_shortest_path(graph, source_node, target_node)\n",
    "\n",
    "    if shortest_path:\n",
    "        print(\"Shortest path from\", source_node, \"to\", target_node, \":\", shortest_path)\n",
    "        print(\"Length of the shortest path:\", shortest_path_length)\n",
    "    else:\n",
    "        print(\"No path found from\", source_node, \"to\", target_node)\n"
   ]
  },
  {
   "cell_type": "code",
   "execution_count": null,
   "id": "485e1516",
   "metadata": {},
   "outputs": [],
   "source": []
  }
 ],
 "metadata": {
  "kernelspec": {
   "display_name": "Python 3 (ipykernel)",
   "language": "python",
   "name": "python3"
  },
  "language_info": {
   "codemirror_mode": {
    "name": "ipython",
    "version": 3
   },
   "file_extension": ".py",
   "mimetype": "text/x-python",
   "name": "python",
   "nbconvert_exporter": "python",
   "pygments_lexer": "ipython3",
   "version": "3.11.7"
  }
 },
 "nbformat": 4,
 "nbformat_minor": 5
}
