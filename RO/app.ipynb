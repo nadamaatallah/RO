{
 "cells": [
  {
   "cell_type": "code",
   "execution_count": 7,
   "id": "b8615ab2",
   "metadata": {},
   "outputs": [],
   "source": [
    "from flask import Flask, render_template, request, jsonify\n",
    "from core import *"
   ]
  },
  {
   "cell_type": "code",
   "execution_count": 8,
   "id": "c3024236",
   "metadata": {},
   "outputs": [],
   "source": [
    "app = Flask(__name__)\n",
    "\n",
    "@app.route('/')\n",
    "def index():\n",
    "    return render_template('essailundi.html')\n",
    "\n",
    "@app.route('/optimize_route', methods=['POST'])\n",
    "def optimize_route():\n",
    "    source = int(request.form['source'])\n",
    "    target = int(request.form['target'])\n",
    "    algorithm = request.form['algorithm']\n",
    "\n",
    "    graph = extract_graph(\"Ariana, Tunis\")\n",
    "    graph = calculate_edge_speeds(graph)\n",
    "    graph = create_directed_graph(graph)\n",
    "    graph = calculate_edge_travel_times(graph)\n",
    "\n",
    "    if algorithm == 'dijkstra':\n",
    "        shortest_path, shortest_path_length = dijkstra_shortest_path(graph, source, target)\n",
    "    elif algorithm == 'bellman_ford':\n",
    "        shortest_path, shortest_path_length = bellman_ford_shortest_path(graph, source, target)\n",
    "    elif algorithm == 'dfs':\n",
    "        shortest_path, shortest_path_length = depth_first_search(graph, source, target)\n",
    "    elif algorithm == 'bfs':\n",
    "        shortest_path, shortest_path_length = breadth_first_search(graph, source, target)\n",
    "    else:\n",
    "        return jsonify({'error': 'Invalid algorithm'})\n",
    "\n",
    "    return jsonify({'shortest_path': shortest_path, 'shortest_path_length': shortest_path_length})\n"
   ]
  },
  {
   "cell_type": "code",
   "execution_count": 9,
   "id": "e774739c",
   "metadata": {},
   "outputs": [
    {
     "name": "stdout",
     "output_type": "stream",
     "text": [
      " * Serving Flask app '__main__'\n",
      " * Debug mode: on\n"
     ]
    },
    {
     "name": "stderr",
     "output_type": "stream",
     "text": [
      "WARNING: This is a development server. Do not use it in a production deployment. Use a production WSGI server instead.\n",
      " * Running on http://127.0.0.1:5000\n",
      "Press CTRL+C to quit\n",
      " * Restarting with watchdog (windowsapi)\n"
     ]
    },
    {
     "ename": "SystemExit",
     "evalue": "1",
     "output_type": "error",
     "traceback": [
      "An exception has occurred, use %tb to see the full traceback.\n",
      "\u001b[1;31mSystemExit\u001b[0m\u001b[1;31m:\u001b[0m 1\n"
     ]
    },
    {
     "name": "stderr",
     "output_type": "stream",
     "text": [
      "C:\\Users\\nadam\\anaconda\\Lib\\site-packages\\IPython\\core\\interactiveshell.py:3561: UserWarning: To exit: use 'exit', 'quit', or Ctrl-D.\n",
      "  warn(\"To exit: use 'exit', 'quit', or Ctrl-D.\", stacklevel=1)\n"
     ]
    }
   ],
   "source": [
    "if __name__ == '__main__':\n",
    "    app.run(debug=True)\n"
   ]
  },
  {
   "cell_type": "code",
   "execution_count": null,
   "id": "12b4c56f",
   "metadata": {},
   "outputs": [],
   "source": []
  },
  {
   "cell_type": "code",
   "execution_count": 14,
   "id": "9e18ad5c",
   "metadata": {},
   "outputs": [],
   "source": [
    "from flask import Flask, render_template, request, jsonify\n",
    "from core import *"
   ]
  },
  {
   "cell_type": "code",
   "execution_count": 16,
   "id": "c61ad2c5",
   "metadata": {},
   "outputs": [
    {
     "name": "stdout",
     "output_type": "stream",
     "text": [
      " * Serving Flask app '__main__'\n",
      " * Debug mode: on\n"
     ]
    },
    {
     "name": "stderr",
     "output_type": "stream",
     "text": [
      "WARNING: This is a development server. Do not use it in a production deployment. Use a production WSGI server instead.\n",
      " * Running on http://127.0.0.1:5000\n",
      "Press CTRL+C to quit\n",
      " * Restarting with watchdog (windowsapi)\n"
     ]
    },
    {
     "ename": "SystemExit",
     "evalue": "1",
     "output_type": "error",
     "traceback": [
      "An exception has occurred, use %tb to see the full traceback.\n",
      "\u001b[1;31mSystemExit\u001b[0m\u001b[1;31m:\u001b[0m 1\n"
     ]
    },
    {
     "name": "stderr",
     "output_type": "stream",
     "text": [
      "C:\\Users\\nadam\\anaconda\\Lib\\site-packages\\IPython\\core\\interactiveshell.py:3561: UserWarning: To exit: use 'exit', 'quit', or Ctrl-D.\n",
      "  warn(\"To exit: use 'exit', 'quit', or Ctrl-D.\", stacklevel=1)\n"
     ]
    }
   ],
   "source": [
    "app = Flask(__name__)\n",
    "\n",
    "# Define the route to serve the HTML page\n",
    "@app.route('/')\n",
    "def index():\n",
    "    return render_template('essailundi.html')\n",
    "\n",
    "# Define the route to handle the optimization route request\n",
    "@app.route('/optimize_route', methods=['POST'])\n",
    "def optimize_route():\n",
    "    # Get the data from the request\n",
    "    source = request.json['source']\n",
    "    target = request.json['target']\n",
    "    algorithm = request.json['algorithm']\n",
    "    \n",
    "    # Choose the appropriate algorithm\n",
    "    if algorithm == 'dijkstra':\n",
    "        shortest_path, shortest_path_length = dijkstra_shortest_path(source, target)\n",
    "    elif algorithm == 'bellman_ford':\n",
    "        shortest_path, shortest_path_length = bellman_ford_shortest_path(source, target)\n",
    "    elif algorithm == 'dfs':\n",
    "        shortest_path, shortest_path_length = depth_first_search(source, target)\n",
    "    elif algorithm == 'bfs':\n",
    "        shortest_path, shortest_path_length = breadth_first_search(source, target)\n",
    "    else:\n",
    "        return jsonify({'error': 'Invalid algorithm'})\n",
    "    \n",
    "    # Return the result as JSON\n",
    "    return jsonify({'shortest_path': shortest_path, 'shortest_path_length': shortest_path_length})\n",
    "\n",
    "if __name__ == '__main__':\n",
    "    app.run(debug=True)"
   ]
  },
  {
   "cell_type": "code",
   "execution_count": null,
   "id": "d424baab",
   "metadata": {},
   "outputs": [],
   "source": []
  }
 ],
 "metadata": {
  "kernelspec": {
   "display_name": "Python 3 (ipykernel)",
   "language": "python",
   "name": "python3"
  },
  "language_info": {
   "codemirror_mode": {
    "name": "ipython",
    "version": 3
   },
   "file_extension": ".py",
   "mimetype": "text/x-python",
   "name": "python",
   "nbconvert_exporter": "python",
   "pygments_lexer": "ipython3",
   "version": "3.11.7"
  }
 },
 "nbformat": 4,
 "nbformat_minor": 5
}
